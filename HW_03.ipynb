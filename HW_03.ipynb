{
  "nbformat": 4,
  "nbformat_minor": 0,
  "metadata": {
    "colab": {
      "provenance": [],
      "authorship_tag": "ABX9TyPWKAtYS9GQQIK2npEDbYmm",
      "include_colab_link": true
    },
    "kernelspec": {
      "name": "python3",
      "display_name": "Python 3"
    },
    "language_info": {
      "name": "python"
    }
  },
  "cells": [
    {
      "cell_type": "markdown",
      "metadata": {
        "id": "view-in-github",
        "colab_type": "text"
      },
      "source": [
        "<a href=\"https://colab.research.google.com/github/mkazachkin/LearningTransfer/blob/main/HW_03.ipynb\" target=\"_parent\"><img src=\"https://colab.research.google.com/assets/colab-badge.svg\" alt=\"Open In Colab\"/></a>"
      ]
    },
    {
      "cell_type": "markdown",
      "source": [
        "# Домашнее задание\n",
        "\n",
        "Реализуйте классификацию эмоциональной окрашенности текстов при помощи объекта pipeline.\n",
        "\n",
        "1. Найдите тип задач Sentiment Analysis на huggingface.co\n",
        "2. Найдите модель для русского языка (примеры: rubert-tiny2..., rubert-base...)"
      ],
      "metadata": {
        "id": "7qjjmuSnGWwa"
      }
    },
    {
      "cell_type": "code",
      "source": [
        "from transformers import pipeline\n",
        "\n",
        "pipe = pipeline(\"text-classification\", model=\"seara/rubert-base-cased-ru-go-emotions\")"
      ],
      "metadata": {
        "id": "3kJHdZyGGO3F"
      },
      "execution_count": 6,
      "outputs": []
    },
    {
      "cell_type": "code",
      "source": [
        "labels = {\n",
        "    'admiration': 'восхищение', 'amusement': 'веселье', 'anger': 'злость', 'annoyance': 'раздражение',\n",
        "    'approval': 'одобрение', 'caring': 'забота', 'confusion': 'непонимание', 'curiosity': 'любопытство',\n",
        "    'desire': 'желание', 'disappointment': 'разочарование', 'disapproval': 'неодобрение', 'disgust': 'отвращение',\n",
        "    'embarrassment': 'смущение', 'excitement': 'возбуждение', 'fear': 'страх', 'gratitude': 'признательность',\n",
        "    'grief': 'горе', 'joy': 'радость', 'love': 'любовь', 'nervousness': 'нервозность', 'optimism': 'оптимизм',\n",
        "    'pride': 'гордость', 'realization': 'осознание', 'relief': 'облегчение', 'remorse': 'раскаяние',\n",
        "    'sadness': 'грусть', 'surprise': 'удивление', 'neutral': 'нейтральность'\n",
        "}\n",
        "\n",
        "\n",
        "def get_label(text, labels, model):\n",
        "    predictions = model(text)\n",
        "    label = predictions[0]['label']\n",
        "    score = predictions[0]['score']\n",
        "    return labels[label], round(score, 2)\n",
        "\n",
        "\n",
        "def classifier(text_list):\n",
        "    results = []\n",
        "    for text in text_list:\n",
        "        result = get_label(text, labels, pipe)\n",
        "        results.append(result)\n",
        "    return results"
      ],
      "metadata": {
        "id": "Hat2vaJFG7qe"
      },
      "execution_count": 7,
      "outputs": []
    },
    {
      "cell_type": "code",
      "source": [
        "classifier([\"Отличный товар\",\n",
        "            \"Мне не понравилось\",\n",
        "            \"Прекрасно выглядит, ничего не меняйте!\",\n",
        "            \"Ничего не понял\",\n",
        "            \"У меня не работала розетка, в остальном все отлично\"])"
      ],
      "metadata": {
        "colab": {
          "base_uri": "https://localhost:8080/"
        },
        "id": "0zK60Dw6G-jB",
        "outputId": "1925e998-a075-40b3-9929-f62332c2b934"
      },
      "execution_count": 8,
      "outputs": [
        {
          "output_type": "execute_result",
          "data": {
            "text/plain": [
              "[('восхищение', 0.92),\n",
              " ('нейтральность', 0.41),\n",
              " ('восхищение', 0.94),\n",
              " ('нейтральность', 0.42),\n",
              " ('веселье', 0.4)]"
            ]
          },
          "metadata": {},
          "execution_count": 8
        }
      ]
    }
  ]
}
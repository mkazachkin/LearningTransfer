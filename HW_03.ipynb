{
  "nbformat": 4,
  "nbformat_minor": 0,
  "metadata": {
    "colab": {
      "provenance": [],
      "authorship_tag": "ABX9TyNFb9Hz3CT9H9M6G8v2D3bk",
      "include_colab_link": true
    },
    "kernelspec": {
      "name": "python3",
      "display_name": "Python 3"
    },
    "language_info": {
      "name": "python"
    }
  },
  "cells": [
    {
      "cell_type": "markdown",
      "metadata": {
        "id": "view-in-github",
        "colab_type": "text"
      },
      "source": [
        "<a href=\"https://colab.research.google.com/github/mkazachkin/LearningTransfer/blob/main/HW_03.ipynb\" target=\"_parent\"><img src=\"https://colab.research.google.com/assets/colab-badge.svg\" alt=\"Open In Colab\"/></a>"
      ]
    },
    {
      "cell_type": "markdown",
      "source": [
        "# Домашнее задание\n",
        "\n",
        "Реализуйте классификацию эмоциональной окрашенности текстов при помощи объекта pipeline.\n",
        "\n",
        "1. Найдите тип задач Sentiment Analysis на huggingface.co\n",
        "2. Найдите модель для русского языка (примеры: rubert-tiny2..., rubert-base...)"
      ],
      "metadata": {
        "id": "7qjjmuSnGWwa"
      }
    },
    {
      "cell_type": "code",
      "source": [
        "import pandas as pd\n",
        "import warnings\n",
        "\n",
        "from transformers import pipeline\n",
        "\n",
        "warnings.filterwarnings('ignore')\n",
        "\n",
        "def get_label(predictions):\n",
        "    label = predictions[0]['label']\n",
        "    score = predictions[0]['score']\n",
        "    return label, round(score, 2)\n",
        "\n",
        "def classify_text(text, labels, pipe):\n",
        "    predictions = pipe([text])\n",
        "    label, score = get_label(predictions)\n",
        "    return text, labels[label], score"
      ],
      "metadata": {
        "id": "3kJHdZyGGO3F"
      },
      "execution_count": 53,
      "outputs": []
    },
    {
      "cell_type": "code",
      "source": [
        "# Определение моделей и меток\n",
        "MODELS = {\n",
        "    'seara/rubert-base-cased-ru-go-emotions': {\n",
        "        'admiration': 'восхищение', 'amusement': 'веселье',\n",
        "        'anger': 'злость', 'annoyance': 'раздражение',\n",
        "        'approval': 'одобрение', 'caring': 'забота',\n",
        "        'confusion': 'непонимание', 'curiosity': 'любопытство',\n",
        "        'desire': 'желание', 'disappointment': 'разочарование',\n",
        "        'disapproval': 'неодобрение', 'disgust': 'отвращение',\n",
        "        'embarrassment': 'смущение', 'excitement': 'возбуждение',\n",
        "        'fear': 'страх', 'gratitude': 'признательность', 'grief': 'горе',\n",
        "        'joy': 'радость', 'love': 'любовь', 'nervousness': 'нервозность',\n",
        "        'optimism': 'оптимизм', 'pride': 'гордость', 'realization': 'осознание',\n",
        "        'relief': 'облегчение', 'remorse': 'раскаяние',\n",
        "        'sadness': 'грусть', 'surprise': 'удивление', 'neutral': 'нейтральность',\n",
        "    },\n",
        "    'seara/rubert-tiny2-russian-sentiment': {\n",
        "        'neutral': 'нейтральный',\n",
        "        'positive': 'позитивный',\n",
        "        'negative': 'негативный',\n",
        "    },\n",
        "    'blanchefort/rubert-base-cased-sentiment': {\n",
        "        'NEUTRAL': 'нейтральный',\n",
        "        'POSITIVE': 'позитивный',\n",
        "        'NEGATIVE': 'негативный',\n",
        "    },\n",
        "}\n"
      ],
      "metadata": {
        "id": "jG0RldrrMG1v"
      },
      "execution_count": 54,
      "outputs": []
    },
    {
      "cell_type": "code",
      "source": [
        "TEXT_LINES = [\"Отличный товар\",\n",
        "              \"Мне не понравилось\",\n",
        "              \"Прекрасно выглядит, ничего не меняйте!\",\n",
        "              \"Ничего не понял\",\n",
        "              \"У меня не работала розетка, в остальном все отлично\"]"
      ],
      "metadata": {
        "id": "EHWIvQkYN-4O"
      },
      "execution_count": 55,
      "outputs": []
    },
    {
      "cell_type": "code",
      "source": [
        "results = {text: [] for text in TEXT_LINES}\n",
        "\n",
        "for model_name, labels in MODELS.items():\n",
        "    pipe = pipeline(\"text-classification\", model=model_name)\n",
        "    for text in TEXT_LINES:\n",
        "        try:\n",
        "            _, label, score = classify_text(text, labels, pipe)\n",
        "            results[text].append(f\"{label} ({score})\")\n",
        "        except Exception as e:\n",
        "            results[text].append(f\"Error ({str(e)})\")\n"
      ],
      "metadata": {
        "id": "T9IsegSoK6GO"
      },
      "execution_count": 57,
      "outputs": []
    },
    {
      "cell_type": "code",
      "source": [
        "df = pd.DataFrame.from_dict(\n",
        "    results,\n",
        "    orient='index',\n",
        "    columns=[model for model in MODELS.keys()]\n",
        "    )\n",
        "df.reset_index(inplace=True)\n",
        "df.columns = ['Text'] + [f'Model {i+1} Label (Score)' for i in range(len(MODELS))]\n",
        "\n",
        "styled_df = df.style.set_properties(**{'text-align': 'left'})\n",
        "styled_df.set_table_styles([dict(selector='th', props=[('text-align', 'left')])])\n",
        "styled_df"
      ],
      "metadata": {
        "id": "oyKrDMYdSqLF",
        "outputId": "c18c1da2-4113-4a66-e052-5952790c325b",
        "colab": {
          "base_uri": "https://localhost:8080/",
          "height": 206
        }
      },
      "execution_count": 58,
      "outputs": [
        {
          "output_type": "execute_result",
          "data": {
            "text/plain": [
              "<pandas.io.formats.style.Styler at 0x7925d45b7580>"
            ],
            "text/html": [
              "<style type=\"text/css\">\n",
              "#T_5e085 th {\n",
              "  text-align: left;\n",
              "}\n",
              "#T_5e085_row0_col0, #T_5e085_row0_col1, #T_5e085_row0_col2, #T_5e085_row0_col3, #T_5e085_row1_col0, #T_5e085_row1_col1, #T_5e085_row1_col2, #T_5e085_row1_col3, #T_5e085_row2_col0, #T_5e085_row2_col1, #T_5e085_row2_col2, #T_5e085_row2_col3, #T_5e085_row3_col0, #T_5e085_row3_col1, #T_5e085_row3_col2, #T_5e085_row3_col3, #T_5e085_row4_col0, #T_5e085_row4_col1, #T_5e085_row4_col2, #T_5e085_row4_col3 {\n",
              "  text-align: left;\n",
              "}\n",
              "</style>\n",
              "<table id=\"T_5e085\" class=\"dataframe\">\n",
              "  <thead>\n",
              "    <tr>\n",
              "      <th class=\"blank level0\" >&nbsp;</th>\n",
              "      <th id=\"T_5e085_level0_col0\" class=\"col_heading level0 col0\" >Text</th>\n",
              "      <th id=\"T_5e085_level0_col1\" class=\"col_heading level0 col1\" >Model 1 Label (Score)</th>\n",
              "      <th id=\"T_5e085_level0_col2\" class=\"col_heading level0 col2\" >Model 2 Label (Score)</th>\n",
              "      <th id=\"T_5e085_level0_col3\" class=\"col_heading level0 col3\" >Model 3 Label (Score)</th>\n",
              "    </tr>\n",
              "  </thead>\n",
              "  <tbody>\n",
              "    <tr>\n",
              "      <th id=\"T_5e085_level0_row0\" class=\"row_heading level0 row0\" >0</th>\n",
              "      <td id=\"T_5e085_row0_col0\" class=\"data row0 col0\" >Отличный товар</td>\n",
              "      <td id=\"T_5e085_row0_col1\" class=\"data row0 col1\" >восхищение (0.92)</td>\n",
              "      <td id=\"T_5e085_row0_col2\" class=\"data row0 col2\" >позитивный (0.99)</td>\n",
              "      <td id=\"T_5e085_row0_col3\" class=\"data row0 col3\" >позитивный (0.98)</td>\n",
              "    </tr>\n",
              "    <tr>\n",
              "      <th id=\"T_5e085_level0_row1\" class=\"row_heading level0 row1\" >1</th>\n",
              "      <td id=\"T_5e085_row1_col0\" class=\"data row1 col0\" >Мне не понравилось</td>\n",
              "      <td id=\"T_5e085_row1_col1\" class=\"data row1 col1\" >нейтральность (0.41)</td>\n",
              "      <td id=\"T_5e085_row1_col2\" class=\"data row1 col2\" >нейтральный (0.59)</td>\n",
              "      <td id=\"T_5e085_row1_col3\" class=\"data row1 col3\" >нейтральный (0.62)</td>\n",
              "    </tr>\n",
              "    <tr>\n",
              "      <th id=\"T_5e085_level0_row2\" class=\"row_heading level0 row2\" >2</th>\n",
              "      <td id=\"T_5e085_row2_col0\" class=\"data row2 col0\" >Прекрасно выглядит, ничего не меняйте!</td>\n",
              "      <td id=\"T_5e085_row2_col1\" class=\"data row2 col1\" >восхищение (0.94)</td>\n",
              "      <td id=\"T_5e085_row2_col2\" class=\"data row2 col2\" >позитивный (0.94)</td>\n",
              "      <td id=\"T_5e085_row2_col3\" class=\"data row2 col3\" >негативный (0.75)</td>\n",
              "    </tr>\n",
              "    <tr>\n",
              "      <th id=\"T_5e085_level0_row3\" class=\"row_heading level0 row3\" >3</th>\n",
              "      <td id=\"T_5e085_row3_col0\" class=\"data row3 col0\" >Ничего не понял</td>\n",
              "      <td id=\"T_5e085_row3_col1\" class=\"data row3 col1\" >нейтральность (0.42)</td>\n",
              "      <td id=\"T_5e085_row3_col2\" class=\"data row3 col2\" >негативный (0.52)</td>\n",
              "      <td id=\"T_5e085_row3_col3\" class=\"data row3 col3\" >нейтральный (0.82)</td>\n",
              "    </tr>\n",
              "    <tr>\n",
              "      <th id=\"T_5e085_level0_row4\" class=\"row_heading level0 row4\" >4</th>\n",
              "      <td id=\"T_5e085_row4_col0\" class=\"data row4 col0\" >У меня не работала розетка, в остальном все отлично</td>\n",
              "      <td id=\"T_5e085_row4_col1\" class=\"data row4 col1\" >веселье (0.4)</td>\n",
              "      <td id=\"T_5e085_row4_col2\" class=\"data row4 col2\" >позитивный (0.67)</td>\n",
              "      <td id=\"T_5e085_row4_col3\" class=\"data row4 col3\" >позитивный (0.98)</td>\n",
              "    </tr>\n",
              "  </tbody>\n",
              "</table>\n"
            ]
          },
          "metadata": {},
          "execution_count": 58
        }
      ]
    }
  ]
}